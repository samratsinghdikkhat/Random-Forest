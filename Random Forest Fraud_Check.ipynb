{
 "cells": [
  {
   "cell_type": "code",
   "execution_count": null,
   "id": "d63f1df6",
   "metadata": {},
   "outputs": [],
   "source": [
    "from sklearn.preprocessing import LabelEncoder\n",
    "import pandas as pd\n",
    "from sklearn.ensemble import IsolationForest"
   ]
  },
  {
   "cell_type": "code",
   "execution_count": null,
   "id": "f137dd5b",
   "metadata": {},
   "outputs": [],
   "source": [
    "data=pd.read_csv('Fraud_Check.csv')\n",
    "data"
   ]
  },
  {
   "cell_type": "code",
   "execution_count": null,
   "id": "89a7a604",
   "metadata": {},
   "outputs": [],
   "source": [
    "data_encoded=pd.get_dummies(data)\n",
    "data_encoded"
   ]
  },
  {
   "cell_type": "code",
   "execution_count": null,
   "id": "71f12e6b",
   "metadata": {},
   "outputs": [],
   "source": [
    "data_encoded.describe()"
   ]
  },
  {
   "cell_type": "code",
   "execution_count": null,
   "id": "622c08c1",
   "metadata": {},
   "outputs": [],
   "source": [
    "clf=IsolationForest(random_state=10,contamination=.01)\n",
    "clf.fit(data_encoded)"
   ]
  },
  {
   "cell_type": "code",
   "execution_count": null,
   "id": "9efc974e",
   "metadata": {},
   "outputs": [],
   "source": [
    "y_pred_outliers=clf.predict(data_encoded)"
   ]
  },
  {
   "cell_type": "code",
   "execution_count": null,
   "id": "13c6f2d7",
   "metadata": {},
   "outputs": [],
   "source": [
    "y_pred_outliers"
   ]
  },
  {
   "cell_type": "code",
   "execution_count": null,
   "id": "f6a31c68",
   "metadata": {},
   "outputs": [],
   "source": [
    "data_encoded.loc[401]=[99619,199778,30,1,1,1,1,1,1,1]"
   ]
  },
  {
   "cell_type": "code",
   "execution_count": null,
   "id": "e5b93c2c",
   "metadata": {},
   "outputs": [],
   "source": [
    "clf = IsolationForest(random_state=10,contamination=.01)\n",
    "clf.fit(data_encoded)\n",
    "# predictions\n",
    "y_pred_outliers = clf.predict(data_encoded)\n",
    "y_pred_outliers"
   ]
  },
  {
   "cell_type": "code",
   "execution_count": null,
   "id": "0eb7473f",
   "metadata": {},
   "outputs": [],
   "source": [
    "data_encoded['scores']=clf.decision_function(data_encoded)"
   ]
  },
  {
   "cell_type": "code",
   "execution_count": null,
   "id": "2147f539",
   "metadata": {},
   "outputs": [],
   "source": [
    "data_encoded['anomaly']=clf.predict(data_encoded.iloc[:,0:10])"
   ]
  },
  {
   "cell_type": "code",
   "execution_count": null,
   "id": "67e5be60",
   "metadata": {},
   "outputs": [],
   "source": [
    "data_encoded"
   ]
  },
  {
   "cell_type": "code",
   "execution_count": null,
   "id": "f5ee5053",
   "metadata": {},
   "outputs": [],
   "source": [
    "data_encoded[data_encoded['anomaly']==-1]"
   ]
  },
  {
   "cell_type": "markdown",
   "id": "0ba19a36",
   "metadata": {},
   "source": [
    "# EDA with Visulization"
   ]
  },
  {
   "cell_type": "code",
   "execution_count": null,
   "id": "75e7d6b4",
   "metadata": {},
   "outputs": [],
   "source": [
    "import matplotlib.pyplot as plt\n",
    "import seaborn as sns\n",
    "sns.set(color_codes=True)\n"
   ]
  },
  {
   "cell_type": "code",
   "execution_count": null,
   "id": "b48a6a13",
   "metadata": {},
   "outputs": [],
   "source": [
    "Fraud = pd.read_csv('Fraud_Check.csv')"
   ]
  },
  {
   "cell_type": "code",
   "execution_count": null,
   "id": "a7a65af0",
   "metadata": {},
   "outputs": [],
   "source": [
    "Fraud.head()"
   ]
  },
  {
   "cell_type": "code",
   "execution_count": null,
   "id": "a29f694a",
   "metadata": {},
   "outputs": [],
   "source": [
    "Fraud.tail()"
   ]
  },
  {
   "cell_type": "code",
   "execution_count": null,
   "id": "bbf91072",
   "metadata": {},
   "outputs": [],
   "source": [
    "Fraud.info()"
   ]
  },
  {
   "cell_type": "code",
   "execution_count": null,
   "id": "d157a537",
   "metadata": {},
   "outputs": [],
   "source": [
    "sns.barplot(Fraud[\"Taxable.Income\"],Fraud[\"Work.Experience\"])"
   ]
  },
  {
   "cell_type": "code",
   "execution_count": null,
   "id": "82b92b2a",
   "metadata": {},
   "outputs": [],
   "source": [
    "sns.barplot(Fruad[\"Undergrad\"],Fraud[\"Work.Experience\"])"
   ]
  },
  {
   "cell_type": "code",
   "execution_count": null,
   "id": "1715d5f7",
   "metadata": {},
   "outputs": [],
   "source": [
    "sns.distplot(Fraud['Work.Experience'])"
   ]
  },
  {
   "cell_type": "code",
   "execution_count": null,
   "id": "0db818a1",
   "metadata": {},
   "outputs": [],
   "source": [
    "sns.jointplot(Fraud['City.Population'],Fraud['Marital.Status'])"
   ]
  },
  {
   "cell_type": "code",
   "execution_count": null,
   "id": "0bad406a",
   "metadata": {},
   "outputs": [],
   "source": [
    "sns.jointplot(Fraud['Work.Experience'],Fraud['Taxable.Income'], kind=\"hex\")"
   ]
  },
  {
   "cell_type": "code",
   "execution_count": null,
   "id": "c3538ad9",
   "metadata": {},
   "outputs": [],
   "source": [
    "sns.jointplot(Fraud['City.Population'],Fraud['Work.Experience'], kind=\"kde\")"
   ]
  },
  {
   "cell_type": "code",
   "execution_count": null,
   "id": "1f14a5b7",
   "metadata": {},
   "outputs": [],
   "source": [
    "sns.stripplot(Fraud['Urban'],Fraud['Undergrad'])"
   ]
  },
  {
   "cell_type": "code",
   "execution_count": null,
   "id": "7ceb682c",
   "metadata": {},
   "outputs": [],
   "source": [
    "sns.stripplot(Fraud['Marital.Status'],Fraud['Work.Experience'], jitter = True)"
   ]
  },
  {
   "cell_type": "code",
   "execution_count": null,
   "id": "a330be20",
   "metadata": {},
   "outputs": [],
   "source": [
    "sns.boxplot(Fraud['Work.Experience'],Fraud['Marital.Status'], hue=Fraud['City.Population'])"
   ]
  },
  {
   "cell_type": "code",
   "execution_count": null,
   "id": "d9f11390",
   "metadata": {},
   "outputs": [],
   "source": [
    "sns.countplot(Fraud['Urban'])"
   ]
  },
  {
   "cell_type": "code",
   "execution_count": null,
   "id": "987fa28c",
   "metadata": {},
   "outputs": [],
   "source": [
    "sns.lmplot(x='Work.Experience',y='Taxable.Income', data=Fraud )"
   ]
  }
 ],
 "metadata": {
  "kernelspec": {
   "display_name": "Python 3 (ipykernel)",
   "language": "python",
   "name": "python3"
  },
  "language_info": {
   "codemirror_mode": {
    "name": "ipython",
    "version": 3
   },
   "file_extension": ".py",
   "mimetype": "text/x-python",
   "name": "python",
   "nbconvert_exporter": "python",
   "pygments_lexer": "ipython3",
   "version": "3.9.7"
  }
 },
 "nbformat": 4,
 "nbformat_minor": 5
}
